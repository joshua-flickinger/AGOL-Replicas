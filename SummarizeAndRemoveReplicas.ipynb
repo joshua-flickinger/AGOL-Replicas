{
 "cells": [
  {
   "cell_type": "markdown",
   "id": "25ac6762",
   "metadata": {},
   "source": [
    "# Import Packages"
   ]
  },
  {
   "cell_type": "code",
   "execution_count": null,
   "id": "9743dee6",
   "metadata": {
    "ExecuteTime": {
     "end_time": "2024-07-19T17:40:58.654237Z",
     "start_time": "2024-07-19T17:40:20.729713Z"
    }
   },
   "outputs": [],
   "source": [
    "import arcgis\n",
    "from arcgis.gis import GIS\n",
    "import arcgis.features\n",
    "import datetime\n",
    "import pandas as pd"
   ]
  },
  {
   "cell_type": "markdown",
   "id": "1758f1e5",
   "metadata": {},
   "source": [
    "# Connect to ArcGIS Online\n",
    "Credentials should be pulled in from ArcGIS Pro, not stored in unsecured notebook."
   ]
  },
  {
   "cell_type": "code",
   "execution_count": null,
   "id": "7bd85025",
   "metadata": {
    "ExecuteTime": {
     "end_time": "2024-07-19T17:41:03.007573Z",
     "start_time": "2024-07-19T17:40:58.659233Z"
    }
   },
   "outputs": [],
   "source": [
    "gis = GIS('pro')"
   ]
  },
  {
   "cell_type": "code",
   "execution_count": null,
   "id": "dd69e4f2",
   "metadata": {
    "ExecuteTime": {
     "end_time": "2024-07-19T17:41:04.051857Z",
     "start_time": "2024-07-19T17:41:03.010570Z"
    }
   },
   "outputs": [],
   "source": [
    "gis.users.me"
   ]
  },
  {
   "cell_type": "markdown",
   "id": "1814e83d",
   "metadata": {},
   "source": [
    "# Access Layer"
   ]
  },
  {
   "cell_type": "code",
   "execution_count": null,
   "id": "3fcbc382",
   "metadata": {
    "ExecuteTime": {
     "end_time": "2024-07-19T17:41:09.404617Z",
     "start_time": "2024-07-19T17:41:06.852678Z"
    }
   },
   "outputs": [],
   "source": [
    "layer = arcgis.gis.Item(gis, itemid=\"daaad6d492944346976359b1b09653e1\")"
   ]
  },
  {
   "cell_type": "code",
   "execution_count": null,
   "id": "0cffa5ca",
   "metadata": {
    "ExecuteTime": {
     "end_time": "2024-07-19T17:41:09.420641Z",
     "start_time": "2024-07-19T17:41:09.407617Z"
    }
   },
   "outputs": [],
   "source": [
    "layer.url"
   ]
  },
  {
   "cell_type": "code",
   "execution_count": null,
   "id": "fbd84894",
   "metadata": {
    "ExecuteTime": {
     "end_time": "2024-07-19T17:41:11.088935Z",
     "start_time": "2024-07-19T17:41:10.820557Z"
    }
   },
   "outputs": [],
   "source": [
    "layer_flc = arcgis.features.FeatureLayerCollection(layer.url, gis)"
   ]
  },
  {
   "cell_type": "markdown",
   "id": "a53dfd42",
   "metadata": {},
   "source": [
    "# Generate List of Replicas"
   ]
  },
  {
   "cell_type": "code",
   "execution_count": null,
   "id": "924309d1",
   "metadata": {
    "ExecuteTime": {
     "end_time": "2024-07-19T17:41:13.274643Z",
     "start_time": "2024-07-19T17:41:12.995644Z"
    }
   },
   "outputs": [],
   "source": [
    "replica_list = layer_flc.replicas.get_list()"
   ]
  },
  {
   "cell_type": "code",
   "execution_count": null,
   "id": "85c43dec",
   "metadata": {
    "ExecuteTime": {
     "end_time": "2024-07-19T17:41:13.913483Z",
     "start_time": "2024-07-19T17:41:13.891422Z"
    }
   },
   "outputs": [],
   "source": [
    "replica_list"
   ]
  },
  {
   "cell_type": "code",
   "execution_count": null,
   "id": "7cdfd8c8",
   "metadata": {
    "ExecuteTime": {
     "end_time": "2024-07-19T17:41:19.836608Z",
     "start_time": "2024-07-19T17:41:19.814962Z"
    }
   },
   "outputs": [],
   "source": [
    "print (\"There are \" + str(len(replica_list)) + \" replicas\")"
   ]
  },
  {
   "cell_type": "markdown",
   "id": "e361cfa4",
   "metadata": {},
   "source": [
    "# Check out one Replica for testing"
   ]
  },
  {
   "cell_type": "code",
   "execution_count": null,
   "id": "8ae1b6ca",
   "metadata": {
    "ExecuteTime": {
     "end_time": "2024-07-19T17:41:21.942292Z",
     "start_time": "2024-07-19T17:41:21.733082Z"
    }
   },
   "outputs": [],
   "source": [
    "replica1 = layer_flc.replicas.get(replica_list[0]['replicaID'])"
   ]
  },
  {
   "cell_type": "code",
   "execution_count": null,
   "id": "5c33e32f",
   "metadata": {
    "ExecuteTime": {
     "end_time": "2024-07-19T17:41:22.188313Z",
     "start_time": "2024-07-19T17:41:22.179320Z"
    }
   },
   "outputs": [],
   "source": [
    "replica1"
   ]
  },
  {
   "cell_type": "markdown",
   "id": "feaa1e10",
   "metadata": {},
   "source": [
    "# Print List of Replicas"
   ]
  },
  {
   "cell_type": "code",
   "execution_count": null,
   "id": "bd7d4e82",
   "metadata": {
    "ExecuteTime": {
     "end_time": "2024-07-19T17:41:27.632581Z",
     "start_time": "2024-07-19T17:41:27.619582Z"
    }
   },
   "outputs": [],
   "source": [
    "data = []"
   ]
  },
  {
   "cell_type": "code",
   "execution_count": null,
   "id": "3b888779",
   "metadata": {
    "ExecuteTime": {
     "end_time": "2024-07-19T17:41:39.337252Z",
     "start_time": "2024-07-19T17:41:28.515099Z"
    }
   },
   "outputs": [],
   "source": [
    "for r in replica_list:\n",
    "    replica = layer_flc.replicas.get(r['replicaID'])\n",
    "    unixCreationDate = replica[\"creationDate\"]\n",
    "    unixLastSyncDate = replica[\"lastSyncDate\"]\n",
    "    creationDate = datetime.datetime.fromtimestamp(unixCreationDate/1000)\n",
    "    lastSyncDate = datetime.datetime.fromtimestamp(unixLastSyncDate/1000)\n",
    "    formatted_creation_date = creationDate.strftime('%Y-%m-%d %H:%M:%S')\n",
    "    formatted_sync_date = lastSyncDate.strftime('%Y-%m-%d %H:%M:%S')\n",
    "    owner = replica[\"replicaOwner\"]\n",
    "    replicaID = replica[\"replicaID\"]\n",
    "    print(\"Replica: \" + replicaID)\n",
    "    print(\"Replica Owner: \" + owner)\n",
    "    print(\"Creation Date: \" + formatted_creation_date)\n",
    "    print(\"Last Sync Date: \" + formatted_sync_date)\n",
    "    data.append({\n",
    "        \"Replica\": replicaID,\n",
    "        \"Replica Owner\": owner,\n",
    "        \"Creation Date\": formatted_creation_date,\n",
    "        \"Last Sync Date\": formatted_sync_date\n",
    "    })"
   ]
  },
  {
   "cell_type": "code",
   "execution_count": null,
   "id": "3fb06b83",
   "metadata": {
    "ExecuteTime": {
     "end_time": "2024-07-19T17:41:46.853955Z",
     "start_time": "2024-07-19T17:41:46.834955Z"
    }
   },
   "outputs": [],
   "source": [
    "df = pd.DataFrame(data)"
   ]
  },
  {
   "cell_type": "code",
   "execution_count": null,
   "id": "f6bbd00b",
   "metadata": {
    "ExecuteTime": {
     "end_time": "2024-07-19T17:41:48.399014Z",
     "start_time": "2024-07-19T17:41:48.342011Z"
    }
   },
   "outputs": [],
   "source": [
    "df.groupby(['Replica Owner']).size().reset_index(name='Count')"
   ]
  },
  {
   "cell_type": "markdown",
   "id": "0a9f5ac8",
   "metadata": {},
   "source": [
    "# See How Many Replicas Were Last Synced on Creation Date"
   ]
  },
  {
   "cell_type": "code",
   "execution_count": null,
   "id": "ab34283b",
   "metadata": {
    "ExecuteTime": {
     "end_time": "2024-07-19T17:41:55.788712Z",
     "start_time": "2024-07-19T17:41:55.779715Z"
    }
   },
   "outputs": [],
   "source": [
    "filtered_df = df[df['Last Sync Date'] == df['Creation Date']]"
   ]
  },
  {
   "cell_type": "code",
   "execution_count": null,
   "id": "10059bc3",
   "metadata": {
    "ExecuteTime": {
     "end_time": "2024-07-19T17:41:56.925842Z",
     "start_time": "2024-07-19T17:41:56.899835Z"
    }
   },
   "outputs": [],
   "source": [
    "filtered_df.sort_values(by='Last Sync Date', ascending=False)"
   ]
  },
  {
   "cell_type": "code",
   "execution_count": null,
   "id": "06b4f637",
   "metadata": {
    "ExecuteTime": {
     "end_time": "2024-07-19T17:42:10.004624Z",
     "start_time": "2024-07-19T17:42:09.985620Z"
    }
   },
   "outputs": [],
   "source": [
    "grouped_df = filtered_df.groupby(['Replica Owner']).size().reset_index(name='Count')\n",
    "grouped_df"
   ]
  },
  {
   "cell_type": "markdown",
   "id": "627b743e",
   "metadata": {},
   "source": [
    "# See how many replicas were synced more recently"
   ]
  },
  {
   "cell_type": "code",
   "execution_count": null,
   "id": "b4fb5fbe",
   "metadata": {
    "ExecuteTime": {
     "end_time": "2024-07-19T17:42:19.300777Z",
     "start_time": "2024-07-19T17:42:19.283164Z"
    }
   },
   "outputs": [],
   "source": [
    "filtered_df = df[df['Last Sync Date'] != df['Creation Date']]"
   ]
  },
  {
   "cell_type": "code",
   "execution_count": null,
   "id": "c71c2dac",
   "metadata": {
    "ExecuteTime": {
     "end_time": "2024-07-19T17:42:20.028640Z",
     "start_time": "2024-07-19T17:42:20.002645Z"
    }
   },
   "outputs": [],
   "source": [
    "filtered_df.sort_values(by='Last Sync Date', ascending=False)"
   ]
  },
  {
   "cell_type": "code",
   "execution_count": null,
   "id": "dd1aab81",
   "metadata": {
    "ExecuteTime": {
     "end_time": "2024-07-19T17:42:21.684813Z",
     "start_time": "2024-07-19T17:42:21.665816Z"
    }
   },
   "outputs": [],
   "source": [
    "grouped_df = filtered_df.groupby(['Replica Owner']).size().reset_index(name='Count')\n",
    "grouped_df"
   ]
  },
  {
   "cell_type": "markdown",
   "id": "fca524d7",
   "metadata": {},
   "source": [
    "# Unregister"
   ]
  },
  {
   "cell_type": "code",
   "execution_count": null,
   "id": "139d74ad",
   "metadata": {
    "ExecuteTime": {
     "end_time": "2024-07-19T18:37:32.054850Z",
     "start_time": "2024-07-19T18:37:13.493047Z"
    }
   },
   "outputs": [],
   "source": [
    "for r in replica_list:\n",
    "    replica = layer_flc.replicas.get(r['replicaID'])\n",
    "    replica_id = replica[\"replicaID\"]\n",
    "    print('Unregistering ' + replica_id)\n",
    "    layer_flc.replicas.unregister(replica_id)"
   ]
  }
 ],
 "metadata": {
  "kernelspec": {
   "display_name": "Python 3 (ipykernel)",
   "language": "python",
   "name": "python3"
  },
  "language_info": {
   "codemirror_mode": {
    "name": "ipython",
    "version": 3
   },
   "file_extension": ".py",
   "mimetype": "text/x-python",
   "name": "python",
   "nbconvert_exporter": "python",
   "pygments_lexer": "ipython3",
   "version": "3.11.11"
  },
  "toc": {
   "base_numbering": 1,
   "nav_menu": {},
   "number_sections": true,
   "sideBar": true,
   "skip_h1_title": false,
   "title_cell": "Table of Contents",
   "title_sidebar": "Contents",
   "toc_cell": false,
   "toc_position": {},
   "toc_section_display": true,
   "toc_window_display": false
  },
  "varInspector": {
   "cols": {
    "lenName": 16,
    "lenType": 16,
    "lenVar": 40
   },
   "kernels_config": {
    "python": {
     "delete_cmd_postfix": "",
     "delete_cmd_prefix": "del ",
     "library": "var_list.py",
     "varRefreshCmd": "print(var_dic_list())"
    },
    "r": {
     "delete_cmd_postfix": ") ",
     "delete_cmd_prefix": "rm(",
     "library": "var_list.r",
     "varRefreshCmd": "cat(var_dic_list()) "
    }
   },
   "types_to_exclude": [
    "module",
    "function",
    "builtin_function_or_method",
    "instance",
    "_Feature"
   ],
   "window_display": false
  }
 },
 "nbformat": 4,
 "nbformat_minor": 5
}
